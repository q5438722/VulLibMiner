{
 "cells": [
  {
   "cell_type": "code",
   "execution_count": 1,
   "id": "c1907517-25ee-44b0-a2f2-049d0a6169f0",
   "metadata": {
    "tags": []
   },
   "outputs": [],
   "source": [
    "import os, sys\n",
    "import json\n",
    "import re\n",
    "from tqdm import tqdm"
   ]
  },
  {
   "cell_type": "code",
   "execution_count": 2,
   "id": "7da7bd1d-4278-40af-82cd-f42c0598aa6f",
   "metadata": {
    "tags": []
   },
   "outputs": [],
   "source": [
    "import pandas as pd\n",
    "import numpy as np\n",
    "from sklearn.datasets import dump_svmlight_file\n",
    "from sklearn.feature_extraction.text import TfidfVectorizer, CountVectorizer\n",
    "from skmultilearn.model_selection import iterative_train_test_split\n",
    "import json\n",
    "import sklearn\n",
    "import pickle\n",
    "import os\n",
    "import sys\n",
    "from spiral import ronin"
   ]
  },
  {
   "cell_type": "code",
   "execution_count": 3,
   "id": "13d21c14-20d3-4f13-96d2-58b032969784",
   "metadata": {
    "tags": []
   },
   "outputs": [],
   "source": [
    "from sklearn.feature_extraction.text import TfidfVectorizer\n",
    "from sklearn.feature_extraction.text import CountVectorizer\n",
    "from clean_text import cleaned_text"
   ]
  },
  {
   "cell_type": "code",
   "execution_count": 417,
   "id": "576d0fab-6280-49dd-b7e3-7e5b771ab7d9",
   "metadata": {
    "tags": []
   },
   "outputs": [],
   "source": [
    "with open('/home/chentianyu/libminer/advisory/combined_reports.json', 'r') as f:\n",
    "    vul_lib = json.load(f)\n",
    "with open('/home/chentianyu/libminer/advisory/new_cve_id_v3.json', 'r') as f:\n",
    "    used = set(json.load(f))\n",
    "vul_lib = [vuln for vuln in vul_lib if vuln['cve_id'] in used]\n",
    "for vuln in vul_lib:\n",
    "    if len(vuln['labels'][0].split(':')) == 2:\n",
    "        vuln['labels'] = ['maven:'+lib for lib in vuln['labels']]\n",
    "        \n",
    "target = [(vuln['cve_id'], vuln) for vuln in vul_lib]\n",
    "target.sort()\n",
    "vul_lib = [item[1] for item in target]\n",
    "length = len(vul_lib)\n",
    "# train = vul_lib[:length * 2 // 5] + vul_lib[length * 3 // 5:length * 4 // 5]\n",
    "# valid = vul_lib[length * 2 // 5:length * 3 // 5]\n",
    "# test = vul_lib[length * 4 // 5:]\n",
    "train = vul_lib[length * 1 // 5:length * 4 // 5]\n",
    "valid = vul_lib[:length * 1 // 5]\n",
    "test = vul_lib[length * 4 // 5:]\n",
    "\n",
    "with open('/home/chentianyu/libminer/advisory/zero_names.json', 'r') as f:\n",
    "    zero_names = set(json.load(f))\n",
    "with open('/home/chentianyu/libminer/advisory/full_names.json', 'r') as f:\n",
    "    full_names = set(json.load(f))"
   ]
  },
  {
   "cell_type": "code",
   "execution_count": null,
   "id": "6f9dc474-59c4-47f7-a5db-d60d0d1f124f",
   "metadata": {
    "tags": []
   },
   "outputs": [],
   "source": [
    "test[333]"
   ]
  },
  {
   "cell_type": "code",
   "execution_count": 418,
   "id": "a7fcff0f-3b55-4024-a387-ecc9fd7d908b",
   "metadata": {
    "tags": []
   },
   "outputs": [
    {
     "data": {
      "text/plain": [
       "452"
      ]
     },
     "execution_count": 418,
     "metadata": {},
     "output_type": "execute_result"
    }
   ],
   "source": [
    "test = [vuln for vuln in test if vuln['cve_id'] in zero_names]\n",
    "len(test)"
   ]
  },
  {
   "cell_type": "code",
   "execution_count": 312,
   "id": "bc632651-3652-4ef4-845f-b7fb23a927cb",
   "metadata": {
    "tags": []
   },
   "outputs": [],
   "source": [
    "with open('/home/chentianyu/libminer/maven_corpus_new.json', 'r') as f:\n",
    "    maven_corpus = json.load(f)"
   ]
  },
  {
   "cell_type": "code",
   "execution_count": 313,
   "id": "decd9d6e-c97b-40ba-9c9b-1d7e27f2bd5d",
   "metadata": {
    "tags": []
   },
   "outputs": [],
   "source": [
    "vul_lib_labels = list(set([label[6:] for vuln in vul_lib for label in vuln['labels']]))"
   ]
  },
  {
   "cell_type": "code",
   "execution_count": 314,
   "id": "faa7a989-04ac-442a-a9e3-52bf0b9d4f7a",
   "metadata": {
    "tags": []
   },
   "outputs": [],
   "source": [
    "maven_labels = [lib['name'] for lib in maven_corpus]"
   ]
  },
  {
   "cell_type": "code",
   "execution_count": 339,
   "id": "23b7d14b-12b0-4b84-b8e0-93493022df76",
   "metadata": {
    "tags": []
   },
   "outputs": [],
   "source": [
    "use_maven = True"
   ]
  },
  {
   "cell_type": "code",
   "execution_count": 419,
   "id": "50f9bce1-2b40-4e2d-ae7f-09bb20f63003",
   "metadata": {
    "tags": []
   },
   "outputs": [],
   "source": [
    "vul_lib_dir = '/home/chentianyu/Chronos/zestxml/GZXML-Datasets/vul_maven_v3_zero/' if use_maven else \\\n",
    "'/home/chentianyu/Chronos/zestxml/GZXML-Datasets/vul_lib_v3_3/'"
   ]
  },
  {
   "cell_type": "code",
   "execution_count": 420,
   "id": "fdb7ebce-da55-4ec2-a7ee-723a243ba61f",
   "metadata": {
    "tags": []
   },
   "outputs": [
    {
     "data": {
      "text/plain": [
       "'/home/chentianyu/Chronos/zestxml/GZXML-Datasets/vul_maven_v3_zero/'"
      ]
     },
     "execution_count": 420,
     "metadata": {},
     "output_type": "execute_result"
    }
   ],
   "source": [
    "if not os.path.isdir(vul_lib_dir):\n",
    "    os.mkdir(vul_lib_dir)\n",
    "vul_lib_dir"
   ]
  },
  {
   "cell_type": "markdown",
   "id": "0a9f8033-ac23-4786-bd7e-2e4b9cc66a85",
   "metadata": {},
   "source": [
    "The following is Xf.txt"
   ]
  },
  {
   "cell_type": "code",
   "execution_count": 421,
   "id": "bfaf3783-a548-4264-bee3-426002e7dbbf",
   "metadata": {
    "tags": []
   },
   "outputs": [],
   "source": [
    "vuln_corpus = [' '.join(cleaned_text(vuln['desc'])) for vuln in vul_lib]"
   ]
  },
  {
   "cell_type": "code",
   "execution_count": 422,
   "id": "e8d78bdd-d5ce-4300-9f9f-87b4c287716d",
   "metadata": {
    "tags": []
   },
   "outputs": [
    {
     "data": {
      "text/html": [
       "<style>#sk-container-id-29 {color: black;}#sk-container-id-29 pre{padding: 0;}#sk-container-id-29 div.sk-toggleable {background-color: white;}#sk-container-id-29 label.sk-toggleable__label {cursor: pointer;display: block;width: 100%;margin-bottom: 0;padding: 0.3em;box-sizing: border-box;text-align: center;}#sk-container-id-29 label.sk-toggleable__label-arrow:before {content: \"▸\";float: left;margin-right: 0.25em;color: #696969;}#sk-container-id-29 label.sk-toggleable__label-arrow:hover:before {color: black;}#sk-container-id-29 div.sk-estimator:hover label.sk-toggleable__label-arrow:before {color: black;}#sk-container-id-29 div.sk-toggleable__content {max-height: 0;max-width: 0;overflow: hidden;text-align: left;background-color: #f0f8ff;}#sk-container-id-29 div.sk-toggleable__content pre {margin: 0.2em;color: black;border-radius: 0.25em;background-color: #f0f8ff;}#sk-container-id-29 input.sk-toggleable__control:checked~div.sk-toggleable__content {max-height: 200px;max-width: 100%;overflow: auto;}#sk-container-id-29 input.sk-toggleable__control:checked~label.sk-toggleable__label-arrow:before {content: \"▾\";}#sk-container-id-29 div.sk-estimator input.sk-toggleable__control:checked~label.sk-toggleable__label {background-color: #d4ebff;}#sk-container-id-29 div.sk-label input.sk-toggleable__control:checked~label.sk-toggleable__label {background-color: #d4ebff;}#sk-container-id-29 input.sk-hidden--visually {border: 0;clip: rect(1px 1px 1px 1px);clip: rect(1px, 1px, 1px, 1px);height: 1px;margin: -1px;overflow: hidden;padding: 0;position: absolute;width: 1px;}#sk-container-id-29 div.sk-estimator {font-family: monospace;background-color: #f0f8ff;border: 1px dotted black;border-radius: 0.25em;box-sizing: border-box;margin-bottom: 0.5em;}#sk-container-id-29 div.sk-estimator:hover {background-color: #d4ebff;}#sk-container-id-29 div.sk-parallel-item::after {content: \"\";width: 100%;border-bottom: 1px solid gray;flex-grow: 1;}#sk-container-id-29 div.sk-label:hover label.sk-toggleable__label {background-color: #d4ebff;}#sk-container-id-29 div.sk-serial::before {content: \"\";position: absolute;border-left: 1px solid gray;box-sizing: border-box;top: 0;bottom: 0;left: 50%;z-index: 0;}#sk-container-id-29 div.sk-serial {display: flex;flex-direction: column;align-items: center;background-color: white;padding-right: 0.2em;padding-left: 0.2em;position: relative;}#sk-container-id-29 div.sk-item {position: relative;z-index: 1;}#sk-container-id-29 div.sk-parallel {display: flex;align-items: stretch;justify-content: center;background-color: white;position: relative;}#sk-container-id-29 div.sk-item::before, #sk-container-id-29 div.sk-parallel-item::before {content: \"\";position: absolute;border-left: 1px solid gray;box-sizing: border-box;top: 0;bottom: 0;left: 50%;z-index: -1;}#sk-container-id-29 div.sk-parallel-item {display: flex;flex-direction: column;z-index: 1;position: relative;background-color: white;}#sk-container-id-29 div.sk-parallel-item:first-child::after {align-self: flex-end;width: 50%;}#sk-container-id-29 div.sk-parallel-item:last-child::after {align-self: flex-start;width: 50%;}#sk-container-id-29 div.sk-parallel-item:only-child::after {width: 0;}#sk-container-id-29 div.sk-dashed-wrapped {border: 1px dashed gray;margin: 0 0.4em 0.5em 0.4em;box-sizing: border-box;padding-bottom: 0.4em;background-color: white;}#sk-container-id-29 div.sk-label label {font-family: monospace;font-weight: bold;display: inline-block;line-height: 1.2em;}#sk-container-id-29 div.sk-label-container {text-align: center;}#sk-container-id-29 div.sk-container {/* jupyter's `normalize.less` sets `[hidden] { display: none; }` but bootstrap.min.css set `[hidden] { display: none !important; }` so we also need the `!important` here to be able to override the default hidden behavior on the sphinx rendered scikit-learn.org. See: https://github.com/scikit-learn/scikit-learn/issues/21755 */display: inline-block !important;position: relative;}#sk-container-id-29 div.sk-text-repr-fallback {display: none;}</style><div id=\"sk-container-id-29\" class=\"sk-top-container\"><div class=\"sk-text-repr-fallback\"><pre>TfidfVectorizer(ngram_range=(1, 2))</pre><b>In a Jupyter environment, please rerun this cell to show the HTML representation or trust the notebook. <br />On GitHub, the HTML representation is unable to render, please try loading this page with nbviewer.org.</b></div><div class=\"sk-container\" hidden><div class=\"sk-item\"><div class=\"sk-estimator sk-toggleable\"><input class=\"sk-toggleable__control sk-hidden--visually\" id=\"sk-estimator-id-29\" type=\"checkbox\" checked><label for=\"sk-estimator-id-29\" class=\"sk-toggleable__label sk-toggleable__label-arrow\">TfidfVectorizer</label><div class=\"sk-toggleable__content\"><pre>TfidfVectorizer(ngram_range=(1, 2))</pre></div></div></div></div></div>"
      ],
      "text/plain": [
       "TfidfVectorizer(ngram_range=(1, 2))"
      ]
     },
     "execution_count": 422,
     "metadata": {},
     "output_type": "execute_result"
    }
   ],
   "source": [
    "vectorizer = TfidfVectorizer(ngram_range=(1, 2))\n",
    "vectorizer.fit(vuln_corpus)"
   ]
  },
  {
   "cell_type": "code",
   "execution_count": 423,
   "id": "b725f27e-e17e-485c-9d89-76f33d4e6bac",
   "metadata": {
    "tags": []
   },
   "outputs": [],
   "source": [
    "tfidf_vectorizer = vectorizer"
   ]
  },
  {
   "cell_type": "code",
   "execution_count": 424,
   "id": "9e391cab-20ad-47d3-99f6-83231d8c2ae7",
   "metadata": {
    "tags": []
   },
   "outputs": [],
   "source": [
    "with open(os.path.join(vul_lib_dir, 'Xf.txt'), 'w', encoding='utf-8') as wr:\n",
    "    for key in sorted(vectorizer.vocabulary_, key=vectorizer.vocabulary_.get):\n",
    "        wr.write(key + \"\\n\")"
   ]
  },
  {
   "cell_type": "code",
   "execution_count": 425,
   "id": "adae2dc6-aa3f-410a-921b-24d6e737e229",
   "metadata": {
    "tags": []
   },
   "outputs": [],
   "source": [
    "def get_row_Xf():\n",
    "    num_lines = sum(1 for line in open(os.path.join(vul_lib_dir, 'Xf.txt')))\n",
    "    return str(num_lines)"
   ]
  },
  {
   "cell_type": "code",
   "execution_count": 426,
   "id": "730a8cc5-e5df-4d53-8e22-425ec9f92c36",
   "metadata": {
    "tags": []
   },
   "outputs": [
    {
     "data": {
      "text/plain": [
       "'76675'"
      ]
     },
     "execution_count": 426,
     "metadata": {},
     "output_type": "execute_result"
    }
   ],
   "source": [
    "XF_ROW = get_row_Xf()\n",
    "XF_ROW"
   ]
  },
  {
   "cell_type": "markdown",
   "id": "2db39cd0-5cc2-4380-8614-ff27f87d6070",
   "metadata": {},
   "source": [
    "The following is Yf.txt"
   ]
  },
  {
   "cell_type": "code",
   "execution_count": 427,
   "id": "e8330625-4664-4eb2-8bb8-d668233ac318",
   "metadata": {
    "tags": []
   },
   "outputs": [],
   "source": [
    "label_columns = [item for item in maven_labels] if use_maven else \\\n",
    "    [item for item in vul_lib_labels]\n",
    "label_to_index = {label_columns[i]:i for i in range(len(label_columns))}\n",
    "\n",
    "for i in range(len(label_columns)):\n",
    "    splitted_label = re.split('-|\\.|:', label_columns[i])\n",
    "    for word in splitted_label:\n",
    "        label_columns[i] = label_columns[i] + \" \" + word"
   ]
  },
  {
   "cell_type": "code",
   "execution_count": 428,
   "id": "3e47dbaa-a944-438b-8876-cd4f4a616c1d",
   "metadata": {
    "tags": []
   },
   "outputs": [
    {
     "data": {
      "text/html": [
       "<style>#sk-container-id-30 {color: black;}#sk-container-id-30 pre{padding: 0;}#sk-container-id-30 div.sk-toggleable {background-color: white;}#sk-container-id-30 label.sk-toggleable__label {cursor: pointer;display: block;width: 100%;margin-bottom: 0;padding: 0.3em;box-sizing: border-box;text-align: center;}#sk-container-id-30 label.sk-toggleable__label-arrow:before {content: \"▸\";float: left;margin-right: 0.25em;color: #696969;}#sk-container-id-30 label.sk-toggleable__label-arrow:hover:before {color: black;}#sk-container-id-30 div.sk-estimator:hover label.sk-toggleable__label-arrow:before {color: black;}#sk-container-id-30 div.sk-toggleable__content {max-height: 0;max-width: 0;overflow: hidden;text-align: left;background-color: #f0f8ff;}#sk-container-id-30 div.sk-toggleable__content pre {margin: 0.2em;color: black;border-radius: 0.25em;background-color: #f0f8ff;}#sk-container-id-30 input.sk-toggleable__control:checked~div.sk-toggleable__content {max-height: 200px;max-width: 100%;overflow: auto;}#sk-container-id-30 input.sk-toggleable__control:checked~label.sk-toggleable__label-arrow:before {content: \"▾\";}#sk-container-id-30 div.sk-estimator input.sk-toggleable__control:checked~label.sk-toggleable__label {background-color: #d4ebff;}#sk-container-id-30 div.sk-label input.sk-toggleable__control:checked~label.sk-toggleable__label {background-color: #d4ebff;}#sk-container-id-30 input.sk-hidden--visually {border: 0;clip: rect(1px 1px 1px 1px);clip: rect(1px, 1px, 1px, 1px);height: 1px;margin: -1px;overflow: hidden;padding: 0;position: absolute;width: 1px;}#sk-container-id-30 div.sk-estimator {font-family: monospace;background-color: #f0f8ff;border: 1px dotted black;border-radius: 0.25em;box-sizing: border-box;margin-bottom: 0.5em;}#sk-container-id-30 div.sk-estimator:hover {background-color: #d4ebff;}#sk-container-id-30 div.sk-parallel-item::after {content: \"\";width: 100%;border-bottom: 1px solid gray;flex-grow: 1;}#sk-container-id-30 div.sk-label:hover label.sk-toggleable__label {background-color: #d4ebff;}#sk-container-id-30 div.sk-serial::before {content: \"\";position: absolute;border-left: 1px solid gray;box-sizing: border-box;top: 0;bottom: 0;left: 50%;z-index: 0;}#sk-container-id-30 div.sk-serial {display: flex;flex-direction: column;align-items: center;background-color: white;padding-right: 0.2em;padding-left: 0.2em;position: relative;}#sk-container-id-30 div.sk-item {position: relative;z-index: 1;}#sk-container-id-30 div.sk-parallel {display: flex;align-items: stretch;justify-content: center;background-color: white;position: relative;}#sk-container-id-30 div.sk-item::before, #sk-container-id-30 div.sk-parallel-item::before {content: \"\";position: absolute;border-left: 1px solid gray;box-sizing: border-box;top: 0;bottom: 0;left: 50%;z-index: -1;}#sk-container-id-30 div.sk-parallel-item {display: flex;flex-direction: column;z-index: 1;position: relative;background-color: white;}#sk-container-id-30 div.sk-parallel-item:first-child::after {align-self: flex-end;width: 50%;}#sk-container-id-30 div.sk-parallel-item:last-child::after {align-self: flex-start;width: 50%;}#sk-container-id-30 div.sk-parallel-item:only-child::after {width: 0;}#sk-container-id-30 div.sk-dashed-wrapped {border: 1px dashed gray;margin: 0 0.4em 0.5em 0.4em;box-sizing: border-box;padding-bottom: 0.4em;background-color: white;}#sk-container-id-30 div.sk-label label {font-family: monospace;font-weight: bold;display: inline-block;line-height: 1.2em;}#sk-container-id-30 div.sk-label-container {text-align: center;}#sk-container-id-30 div.sk-container {/* jupyter's `normalize.less` sets `[hidden] { display: none; }` but bootstrap.min.css set `[hidden] { display: none !important; }` so we also need the `!important` here to be able to override the default hidden behavior on the sphinx rendered scikit-learn.org. See: https://github.com/scikit-learn/scikit-learn/issues/21755 */display: inline-block !important;position: relative;}#sk-container-id-30 div.sk-text-repr-fallback {display: none;}</style><div id=\"sk-container-id-30\" class=\"sk-top-container\"><div class=\"sk-text-repr-fallback\"><pre>TfidfVectorizer()</pre><b>In a Jupyter environment, please rerun this cell to show the HTML representation or trust the notebook. <br />On GitHub, the HTML representation is unable to render, please try loading this page with nbviewer.org.</b></div><div class=\"sk-container\" hidden><div class=\"sk-item\"><div class=\"sk-estimator sk-toggleable\"><input class=\"sk-toggleable__control sk-hidden--visually\" id=\"sk-estimator-id-30\" type=\"checkbox\" checked><label for=\"sk-estimator-id-30\" class=\"sk-toggleable__label sk-toggleable__label-arrow\">TfidfVectorizer</label><div class=\"sk-toggleable__content\"><pre>TfidfVectorizer()</pre></div></div></div></div></div>"
      ],
      "text/plain": [
       "TfidfVectorizer()"
      ]
     },
     "execution_count": 428,
     "metadata": {},
     "output_type": "execute_result"
    }
   ],
   "source": [
    "vectorizer = TfidfVectorizer(ngram_range=(1, 1))\n",
    "vectorizer.fit(label_columns)"
   ]
  },
  {
   "cell_type": "code",
   "execution_count": 429,
   "id": "5009b155-572d-4bfd-9881-8de5870284b1",
   "metadata": {
    "tags": []
   },
   "outputs": [],
   "source": [
    "label_vectorizer = vectorizer"
   ]
  },
  {
   "cell_type": "code",
   "execution_count": 430,
   "id": "34b03a04-3692-4fd5-9913-04445f630bbf",
   "metadata": {
    "tags": []
   },
   "outputs": [],
   "source": [
    "with open(os.path.join(vul_lib_dir, 'Yf.txt'), \"w\", encoding=\"utf-8\") as wr:\n",
    "    for key in sorted(vectorizer.vocabulary_, key=vectorizer.vocabulary_.get):\n",
    "        wr.write(key + \"\\n\")"
   ]
  },
  {
   "cell_type": "code",
   "execution_count": 431,
   "id": "c5024fc4-a403-4f9e-b5a8-3bc867af4558",
   "metadata": {
    "tags": []
   },
   "outputs": [],
   "source": [
    "def get_row_Yf(): \n",
    "    num_lines = sum(1 for line in open(os.path.join(vul_lib_dir, 'Yf.txt')))\n",
    "    return str(num_lines)"
   ]
  },
  {
   "cell_type": "code",
   "execution_count": 432,
   "id": "8d84d4bd-78a5-4a7b-a859-18941a291d6a",
   "metadata": {
    "tags": []
   },
   "outputs": [
    {
     "data": {
      "text/plain": [
       "'95189'"
      ]
     },
     "execution_count": 432,
     "metadata": {},
     "output_type": "execute_result"
    }
   ],
   "source": [
    "YF_ROW = get_row_Yf()\n",
    "YF_ROW"
   ]
  },
  {
   "cell_type": "markdown",
   "id": "09f851a0-b375-4ec0-8385-71aedf1bd1f8",
   "metadata": {
    "tags": []
   },
   "source": [
    "The following is Y_Yf.txt"
   ]
  },
  {
   "cell_type": "code",
   "execution_count": 433,
   "id": "b0a6aa72-eb30-4874-a458-8c08b327681a",
   "metadata": {
    "tags": []
   },
   "outputs": [
    {
     "name": "stderr",
     "output_type": "stream",
     "text": [
      "100%|██████████| 311233/311233 [03:38<00:00, 1423.63it/s]\n"
     ]
    }
   ],
   "source": [
    "with open(os.path.join(vul_lib_dir, 'Y_Yf.txt'), \"w\", encoding=\"utf-8\") as wr:\n",
    "    # header is number of labels SPACE number of features (i.e., numrows of Yf.txt)\n",
    "    wr.write(f'{len(label_columns)} {YF_ROW}\\n')\n",
    "    # wr.write(\"2817 \"+YF_ROW+\"\\n\")\n",
    "    for label in tqdm(label_columns):\n",
    "        sparse_mat = vectorizer.transform([label])\n",
    "        value = sparse_mat.data\n",
    "        indices = sparse_mat.indices\n",
    "        sorted_value = [x for _, x in sorted(zip(indices, value))]\n",
    "        sorted_indices = sorted(indices)\n",
    "        # printing the tfidf values\n",
    "        to_print = \"\"\n",
    "        for i in range(0, len(sorted_value)):\n",
    "            to_print = to_print + sorted_indices[i].__str__() + \":\" + sorted_value[i].__str__() + \" \"\n",
    "        to_print = to_print[:-1] + \"\\n\"\n",
    "        wr.write(to_print)"
   ]
  },
  {
   "cell_type": "markdown",
   "id": "4b4c3ddf-1c24-49f4-9269-75e7c8db7864",
   "metadata": {},
   "source": [
    "The following is trn_Y_Yf.txt"
   ]
  },
  {
   "cell_type": "code",
   "execution_count": 434,
   "id": "0dc2c3f8-a740-4515-af86-6be54c960561",
   "metadata": {
    "tags": []
   },
   "outputs": [],
   "source": [
    "list_labels = list(set([label[6:] for vuln in train for label in vuln['labels']]))"
   ]
  },
  {
   "cell_type": "code",
   "execution_count": 435,
   "id": "1af5aa1a-7f0c-4c60-8c0f-35036d79120d",
   "metadata": {
    "tags": []
   },
   "outputs": [],
   "source": [
    "with open(os.path.join(vul_lib_dir, 'trn_Y_Yf.txt'), \"w\", encoding=\"utf-8\") as wr:\n",
    "    # header is number of labels SPACE number of features (i.e., numrows of Yf.txt)\n",
    "    wr.write(len(list_labels).__str__() + \" \"+YF_ROW+\"\\n\")\n",
    "    for label in list_labels:\n",
    "        sparse_mat = vectorizer.transform([label])\n",
    "        value = sparse_mat.data\n",
    "        indices = sparse_mat.indices\n",
    "        sorted_value = [x for _, x in sorted(zip(indices, value))]\n",
    "        sorted_indices = sorted(indices)\n",
    "        # printing the tfidf values\n",
    "        to_print = \"\"\n",
    "        for i in range(0, len(sorted_value)):\n",
    "            to_print = to_print + sorted_indices[i].__str__() + \":\" + sorted_value[i].__str__() + \" \"\n",
    "        to_print = to_print[:-1] + \"\\n\"\n",
    "        wr.write(to_print)"
   ]
  },
  {
   "cell_type": "markdown",
   "id": "ce785a39-8312-449c-aeaa-a4ef30eb2ed3",
   "metadata": {},
   "source": [
    "The following is trn_X_Xf.txt and tst_X_Xf.txt"
   ]
  },
  {
   "cell_type": "code",
   "execution_count": 436,
   "id": "88180ceb-659a-466d-b996-01ab629fc70f",
   "metadata": {
    "tags": []
   },
   "outputs": [],
   "source": [
    "train_desc = [' '.join(cleaned_text(vuln['desc'])) for \\\n",
    "              vuln in train if len(vuln['labels']) > 0]\n",
    "valid_desc = [' '.join(cleaned_text(vuln['desc'])) for \\\n",
    "              vuln in valid if len(vuln['labels']) > 0]\n",
    "test_desc = [' '.join(cleaned_text(vuln['desc'])) for \\\n",
    "              vuln in test if len(vuln['labels']) > 0]"
   ]
  },
  {
   "cell_type": "code",
   "execution_count": 437,
   "id": "9c6089b4-fcfd-4cef-a815-3807057bfd37",
   "metadata": {
    "tags": []
   },
   "outputs": [],
   "source": [
    "train_X = tfidf_vectorizer.transform(train_desc)\n",
    "valid_X = tfidf_vectorizer.transform(valid_desc)\n",
    "test_X = tfidf_vectorizer.transform(test_desc)"
   ]
  },
  {
   "cell_type": "code",
   "execution_count": 438,
   "id": "bc0f5cbc-7e11-4c14-b1c4-d9d32c68f026",
   "metadata": {
    "tags": []
   },
   "outputs": [],
   "source": [
    "xf_wr = open(os.path.join(vul_lib_dir, 'trn_X_Xf.txt'), \"w\", encoding=\"utf-8\")\n",
    "xy_wr = open(os.path.join(vul_lib_dir, 'trn_X_Y.txt'), \"w\", encoding=\"utf-8\")\n",
    "xf_wr.write(f'{len(train_desc)} {XF_ROW}\\n')\n",
    "xy_wr.write(f'{len(train_desc)} {len(label_columns)}\\n')\n",
    "for index in range(train_X.shape[0]):\n",
    "    xf_target =[f'{idx}:{p}' for idx, p in zip(train_X[index].indices, train_X[index].data)]\n",
    "    xf_wr.write(' '.join(xf_target)+'\\n')\n",
    "\n",
    "    label_target = [f'{label_to_index[label[6:]]}:{1.00000}' for label in train[index]['labels']]\n",
    "    xy_wr.write(' '.join(label_target) + '\\n')\n",
    "xf_wr.close()\n",
    "xy_wr.close()"
   ]
  },
  {
   "cell_type": "code",
   "execution_count": 439,
   "id": "6ac44820-793a-460a-a665-8bdf09c88f8a",
   "metadata": {
    "tags": []
   },
   "outputs": [],
   "source": [
    "xf_wr = open(os.path.join(vul_lib_dir, 'tst_X_Xf.txt'), \"w\", encoding=\"utf-8\")\n",
    "xy_wr = open(os.path.join(vul_lib_dir, 'tst_X_Y.txt'), \"w\", encoding=\"utf-8\")\n",
    "xf_wr.write(f'{len(test_desc) * 3} {XF_ROW}\\n')\n",
    "xy_wr.write(f'{len(test_desc) * 3} {len(label_columns)}\\n')\n",
    "for repeat in range(3):\n",
    "    for index in range(test_X.shape[0]):\n",
    "        xf_target =[f'{idx}:{p}' for idx, p in zip(test_X[index].indices, test_X[index].data)]\n",
    "        xf_wr.write(' '.join(xf_target)+'\\n')\n",
    "\n",
    "        label_target = [f'{label_to_index[label[6:]]}:{1.00000}' for label in test[index]['labels']]\n",
    "        xy_wr.write(' '.join(label_target) + '\\n')\n",
    "xf_wr.close()\n",
    "xy_wr.close()"
   ]
  },
  {
   "cell_type": "code",
   "execution_count": 440,
   "id": "b848fe18-8b3c-41ec-974d-93a1a65a7d31",
   "metadata": {
    "tags": []
   },
   "outputs": [
    {
     "data": {
      "text/plain": [
       "'76675'"
      ]
     },
     "execution_count": 440,
     "metadata": {},
     "output_type": "execute_result"
    }
   ],
   "source": [
    "XF_ROW"
   ]
  },
  {
   "cell_type": "code",
   "execution_count": 58,
   "id": "df14b286-a04f-4cfd-a057-b0382ef23c89",
   "metadata": {
    "tags": []
   },
   "outputs": [
    {
     "data": {
      "text/plain": [
       "array([45453, 45445, 44219, 43976, 43563, 41440, 41419, 35833, 35805,\n",
       "       35660, 35567, 34300, 34278, 33830, 33819, 33209, 33198, 32518,\n",
       "       32515, 31615, 31610, 31374, 31370, 26856, 26849, 25401, 25370,\n",
       "       22150, 22149, 21934, 21933, 18058, 18044, 13451, 13450,  6933,\n",
       "        6888,  6886,  5191,  5142,  3585,  3573,  3308,  3300,  1582,\n",
       "        1506], dtype=int32)"
      ]
     },
     "execution_count": 58,
     "metadata": {},
     "output_type": "execute_result"
    }
   ],
   "source": [
    "train_X[0].indices"
   ]
  },
  {
   "cell_type": "code",
   "execution_count": 59,
   "id": "9b3d850f-eb17-4eac-bcd4-36bd513cd93d",
   "metadata": {
    "tags": []
   },
   "outputs": [
    {
     "data": {
      "text/plain": [
       "array([0.18496186, 0.11649603, 0.09898618, 0.04823711, 0.07689307,\n",
       "       0.101143  , 0.07614777, 0.18496186, 0.10410068, 0.16960882,\n",
       "       0.07938643, 0.18496186, 0.11322593, 0.18496186, 0.12425293,\n",
       "       0.05722962, 0.04837613, 0.18496186, 0.15721347, 0.18496186,\n",
       "       0.13396017, 0.18496186, 0.15164692, 0.18496186, 0.13755992,\n",
       "       0.18496186, 0.12156482, 0.18496186, 0.18496186, 0.18496186,\n",
       "       0.18496186, 0.18496186, 0.11700525, 0.18496186, 0.16466624,\n",
       "       0.18496186, 0.18496186, 0.23102288, 0.14186043, 0.08432901,\n",
       "       0.18496186, 0.1350963 , 0.10270716, 0.04379441, 0.05899677,\n",
       "       0.04261674])"
      ]
     },
     "execution_count": 59,
     "metadata": {},
     "output_type": "execute_result"
    }
   ],
   "source": [
    "train_X[0].data"
   ]
  },
  {
   "cell_type": "code",
   "execution_count": 34,
   "id": "a1a77346-c9c2-43b1-9400-7c13011d61e7",
   "metadata": {
    "tags": []
   },
   "outputs": [
    {
     "data": {
      "text/plain": [
       "(1668, 46547)"
      ]
     },
     "execution_count": 34,
     "metadata": {},
     "output_type": "execute_result"
    }
   ],
   "source": [
    "train_X.shape"
   ]
  },
  {
   "cell_type": "code",
   "execution_count": 62,
   "id": "4874bae7-443d-429a-a27a-901d6931a21e",
   "metadata": {
    "tags": []
   },
   "outputs": [
    {
     "data": {
      "text/plain": [
       "'org.jenkins-ci.plugins:htmlpublisher org jenkins ci plugins htmlpublisher'"
      ]
     },
     "execution_count": 62,
     "metadata": {},
     "output_type": "execute_result"
    }
   ],
   "source": []
  },
  {
   "cell_type": "code",
   "execution_count": 14,
   "id": "8046dfc6-de58-4600-a57b-53836752bdc5",
   "metadata": {
    "tags": []
   },
   "outputs": [
    {
     "data": {
      "text/plain": [
       "2095"
      ]
     },
     "execution_count": 14,
     "metadata": {},
     "output_type": "execute_result"
    }
   ],
   "source": [
    "len(label_columns)"
   ]
  },
  {
   "cell_type": "code",
   "execution_count": null,
   "id": "41ee5a5c-679b-4abf-9309-200ec3640567",
   "metadata": {},
   "outputs": [],
   "source": []
  },
  {
   "cell_type": "code",
   "execution_count": null,
   "id": "43cdb3ec-4aa4-4570-9539-587d116ea018",
   "metadata": {},
   "outputs": [],
   "source": []
  },
  {
   "cell_type": "code",
   "execution_count": null,
   "id": "45281cbe-fb08-494a-9f29-b795ef69b77e",
   "metadata": {},
   "outputs": [],
   "source": []
  },
  {
   "cell_type": "code",
   "execution_count": null,
   "id": "335fa685-aa63-4cba-b8b9-34e77baac590",
   "metadata": {
    "tags": []
   },
   "outputs": [],
   "source": [
    "list_labels[0]"
   ]
  }
 ],
 "metadata": {
  "kernelspec": {
   "display_name": "Python 3 (ipykernel)",
   "language": "python",
   "name": "python3"
  },
  "language_info": {
   "codemirror_mode": {
    "name": "ipython",
    "version": 3
   },
   "file_extension": ".py",
   "mimetype": "text/x-python",
   "name": "python",
   "nbconvert_exporter": "python",
   "pygments_lexer": "ipython3",
   "version": "3.10.13"
  }
 },
 "nbformat": 4,
 "nbformat_minor": 5
}
